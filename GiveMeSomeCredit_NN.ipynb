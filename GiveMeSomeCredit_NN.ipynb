{
 "cells": [
  {
   "cell_type": "code",
   "execution_count": 582,
   "id": "8cd4bae8",
   "metadata": {},
   "outputs": [],
   "source": [
    "import pandas as pd\n",
    "import numpy as np\n",
    "import matplotlib.pyplot as plt\n",
    "from sklearn.model_selection import train_test_split\n",
    "from sklearn.preprocessing import StandardScaler\n",
    "from sklearn.metrics import roc_auc_score\n",
    "np.random.seed(1)"
   ]
  },
  {
   "cell_type": "code",
   "execution_count": 583,
   "id": "8abf9a4e",
   "metadata": {},
   "outputs": [],
   "source": [
    "train = pd.read_csv('cs-training.csv')\n",
    "test = pd.read_csv('cs-test.csv')\n",
    "train.fillna(0,inplace=True)\n",
    "test.fillna(0,inplace=True)"
   ]
  },
  {
   "cell_type": "code",
   "execution_count": 584,
   "id": "fe7b3d45",
   "metadata": {},
   "outputs": [],
   "source": [
    "train.columns = ['Id','SeriousDlqin2yrs','RevolvingUtilizationOfUnsecuredLines','age','NumberofTimes30to59'\n",
    "                ,'DebtRatio','MonthlyIncome','NumberofOpenCreditLinesandLoans','NumberofTimes90'\n",
    "                ,'NumberRealEstateLoansOrLines','NumberofTimes60to89','NumberOfDependents']\n",
    "test.columns = ['Id','SeriousDlqin2yrs','RevolvingUtilizationOfUnsecuredLines','age','NumberofTimes30to59'\n",
    "                ,'DebtRatio','MonthlyIncome','NumberofOpenCreditLinesandLoans','NumberofTimes90'\n",
    "                ,'NumberRealEstateLoansOrLines','NumberofTimes60to89','NumberOfDependents']"
   ]
  },
  {
   "cell_type": "code",
   "execution_count": 585,
   "id": "daad8fac",
   "metadata": {},
   "outputs": [
    {
     "data": {
      "text/html": [
       "<div>\n",
       "<style scoped>\n",
       "    .dataframe tbody tr th:only-of-type {\n",
       "        vertical-align: middle;\n",
       "    }\n",
       "\n",
       "    .dataframe tbody tr th {\n",
       "        vertical-align: top;\n",
       "    }\n",
       "\n",
       "    .dataframe thead th {\n",
       "        text-align: right;\n",
       "    }\n",
       "</style>\n",
       "<table border=\"1\" class=\"dataframe\">\n",
       "  <thead>\n",
       "    <tr style=\"text-align: right;\">\n",
       "      <th></th>\n",
       "      <th>RevolvingUtilizationOfUnsecuredLines</th>\n",
       "      <th>age</th>\n",
       "      <th>NumberofTimes30to59</th>\n",
       "      <th>DebtRatio</th>\n",
       "      <th>MonthlyIncome</th>\n",
       "      <th>NumberofOpenCreditLinesandLoans</th>\n",
       "      <th>NumberofTimes90</th>\n",
       "      <th>NumberRealEstateLoansOrLines</th>\n",
       "      <th>NumberofTimes60to89</th>\n",
       "      <th>NumberOfDependents</th>\n",
       "    </tr>\n",
       "  </thead>\n",
       "  <tbody>\n",
       "    <tr>\n",
       "      <th>0</th>\n",
       "      <td>0.766127</td>\n",
       "      <td>45</td>\n",
       "      <td>2</td>\n",
       "      <td>0.802982</td>\n",
       "      <td>9120.0</td>\n",
       "      <td>13</td>\n",
       "      <td>0</td>\n",
       "      <td>6</td>\n",
       "      <td>0</td>\n",
       "      <td>2.0</td>\n",
       "    </tr>\n",
       "    <tr>\n",
       "      <th>1</th>\n",
       "      <td>0.957151</td>\n",
       "      <td>40</td>\n",
       "      <td>0</td>\n",
       "      <td>0.121876</td>\n",
       "      <td>2600.0</td>\n",
       "      <td>4</td>\n",
       "      <td>0</td>\n",
       "      <td>0</td>\n",
       "      <td>0</td>\n",
       "      <td>1.0</td>\n",
       "    </tr>\n",
       "    <tr>\n",
       "      <th>2</th>\n",
       "      <td>0.658180</td>\n",
       "      <td>38</td>\n",
       "      <td>1</td>\n",
       "      <td>0.085113</td>\n",
       "      <td>3042.0</td>\n",
       "      <td>2</td>\n",
       "      <td>1</td>\n",
       "      <td>0</td>\n",
       "      <td>0</td>\n",
       "      <td>0.0</td>\n",
       "    </tr>\n",
       "    <tr>\n",
       "      <th>3</th>\n",
       "      <td>0.233810</td>\n",
       "      <td>30</td>\n",
       "      <td>0</td>\n",
       "      <td>0.036050</td>\n",
       "      <td>3300.0</td>\n",
       "      <td>5</td>\n",
       "      <td>0</td>\n",
       "      <td>0</td>\n",
       "      <td>0</td>\n",
       "      <td>0.0</td>\n",
       "    </tr>\n",
       "    <tr>\n",
       "      <th>4</th>\n",
       "      <td>0.907239</td>\n",
       "      <td>49</td>\n",
       "      <td>1</td>\n",
       "      <td>0.024926</td>\n",
       "      <td>63588.0</td>\n",
       "      <td>7</td>\n",
       "      <td>0</td>\n",
       "      <td>1</td>\n",
       "      <td>0</td>\n",
       "      <td>0.0</td>\n",
       "    </tr>\n",
       "  </tbody>\n",
       "</table>\n",
       "</div>"
      ],
      "text/plain": [
       "   RevolvingUtilizationOfUnsecuredLines  age  NumberofTimes30to59  DebtRatio  \\\n",
       "0                              0.766127   45                    2   0.802982   \n",
       "1                              0.957151   40                    0   0.121876   \n",
       "2                              0.658180   38                    1   0.085113   \n",
       "3                              0.233810   30                    0   0.036050   \n",
       "4                              0.907239   49                    1   0.024926   \n",
       "\n",
       "   MonthlyIncome  NumberofOpenCreditLinesandLoans  NumberofTimes90  \\\n",
       "0         9120.0                               13                0   \n",
       "1         2600.0                                4                0   \n",
       "2         3042.0                                2                1   \n",
       "3         3300.0                                5                0   \n",
       "4        63588.0                                7                0   \n",
       "\n",
       "   NumberRealEstateLoansOrLines  NumberofTimes60to89  NumberOfDependents  \n",
       "0                             6                    0                 2.0  \n",
       "1                             0                    0                 1.0  \n",
       "2                             0                    0                 0.0  \n",
       "3                             0                    0                 0.0  \n",
       "4                             1                    0                 0.0  "
      ]
     },
     "execution_count": 585,
     "metadata": {},
     "output_type": "execute_result"
    }
   ],
   "source": [
    "test_id = test['Id']\n",
    "target = train['SeriousDlqin2yrs']\n",
    "cols = ['RevolvingUtilizationOfUnsecuredLines','age','NumberofTimes30to59'\n",
    "                ,'DebtRatio','MonthlyIncome','NumberofOpenCreditLinesandLoans','NumberofTimes90'\n",
    "                ,'NumberRealEstateLoansOrLines','NumberofTimes60to89','NumberOfDependents']\n",
    "train = train[cols]\n",
    "test = test[cols]\n",
    "train.head()"
   ]
  },
  {
   "cell_type": "code",
   "execution_count": 586,
   "id": "d4742548",
   "metadata": {},
   "outputs": [
    {
     "name": "stdout",
     "output_type": "stream",
     "text": [
      "(105000, 10)\n",
      "(45000, 10)\n",
      "(1, 105000)\n",
      "(1, 45000)\n"
     ]
    }
   ],
   "source": [
    "x_train,x_test,y_train,y_test = train_test_split(train,target,test_size=0.3,shuffle=True,random_state=26,stratify=target)\n",
    "y_train = y_train.values.reshape((1,-1))\n",
    "y_test = y_test.values.reshape((1,-1))\n",
    "print(x_train.shape)\n",
    "print(x_test.shape)\n",
    "print(y_train.shape)\n",
    "print(y_test.shape)"
   ]
  },
  {
   "cell_type": "code",
   "execution_count": 587,
   "id": "a06574a0",
   "metadata": {},
   "outputs": [
    {
     "name": "stdout",
     "output_type": "stream",
     "text": [
      "(10, 105000)\n"
     ]
    },
    {
     "data": {
      "text/plain": [
       "(10, 45000)"
      ]
     },
     "execution_count": 587,
     "metadata": {},
     "output_type": "execute_result"
    }
   ],
   "source": [
    "scaler = StandardScaler()\n",
    "train_std = scaler.fit_transform(x_train)\n",
    "test_std = scaler.fit_transform(x_test)\n",
    "train_std = train_std.T\n",
    "test_std = test_std.T\n",
    "print(train_std.shape)\n",
    "test_std.shape"
   ]
  },
  {
   "cell_type": "code",
   "execution_count": 588,
   "id": "0d9fe4c4",
   "metadata": {},
   "outputs": [],
   "source": [
    "def initialize_parameters_deep(nn_dims):\n",
    "    \n",
    "    np.random.seed(1)\n",
    "    parameters={}\n",
    "    \n",
    "    L = len(nn_dims)\n",
    "    for l in range(1,L):\n",
    "        parameters['W'+str(l)] = np.random.randn(nn_dims[l],nn_dims[l-1]) / np.sqrt(nn_dims[l-1])\n",
    "        parameters['b'+str(l)] = np.zeros((nn_dims[l],1))\n",
    "        \n",
    "    return parameters"
   ]
  },
  {
   "cell_type": "code",
   "execution_count": 589,
   "id": "e4f3871b",
   "metadata": {},
   "outputs": [],
   "source": [
    "def linear_forward(A,W,b):\n",
    "    \n",
    "   # print(W.shape)\n",
    "   # print(A.shape)\n",
    "    Z = np.dot(W,A) + b\n",
    "    cache = (A,W,b)\n",
    "    \n",
    "    return Z,cache"
   ]
  },
  {
   "cell_type": "code",
   "execution_count": 590,
   "id": "c0578390",
   "metadata": {},
   "outputs": [],
   "source": [
    "def relu(Z):\n",
    "    A = np.maximum(0,Z)\n",
    "    cache = Z\n",
    "    return A,cache"
   ]
  },
  {
   "cell_type": "code",
   "execution_count": 591,
   "id": "90a87137",
   "metadata": {},
   "outputs": [],
   "source": [
    "def sigmoid(Z):\n",
    "    A = 1/(1+np.exp(-Z))\n",
    "    cache = Z\n",
    "    return A,cache"
   ]
  },
  {
   "cell_type": "code",
   "execution_count": 592,
   "id": "915286dc",
   "metadata": {},
   "outputs": [],
   "source": [
    "def linear_activation_forward(A_prev,W,b,activation):\n",
    "    \n",
    "    if activation == 'relu':\n",
    "        Z,linear_cache = linear_forward(A_prev,W,b)\n",
    "        A,activation_cache = relu(Z)\n",
    "        \n",
    "    elif activation == 'sigmoid':\n",
    "        Z,linear_cache = linear_forward(A_prev,W,b)\n",
    "        A,activation_cache = sigmoid(Z)\n",
    "        \n",
    "    cache = (linear_cache,activation_cache)\n",
    "    \n",
    "    return A,cache\n",
    "        "
   ]
  },
  {
   "cell_type": "code",
   "execution_count": 593,
   "id": "9c83df82",
   "metadata": {},
   "outputs": [],
   "source": [
    "def compute_cost(AL,Y):\n",
    "    \n",
    "    m =  Y.shape[1]\n",
    "    \n",
    "    cost = -1 / m * (np.dot(Y,np.log(AL).T) + np.dot(1-  Y ,np.log(1-AL).T))\n",
    "    \n",
    "    cost = np.squeeze(cost)\n",
    "    \n",
    "    return cost"
   ]
  },
  {
   "cell_type": "code",
   "execution_count": 594,
   "id": "f3293c87",
   "metadata": {},
   "outputs": [],
   "source": [
    "def L_model_forward(X,parameters):\n",
    "    \n",
    "    caches=[]\n",
    "    A = X\n",
    "    L = len(parameters) // 2\n",
    "    \n",
    "    for l in range(1,L):\n",
    "        A_prev = A\n",
    "        A,cache = linear_activation_forward(A_prev,parameters['W'+ str(l)],parameters['b' + str(l)],'relu')\n",
    "        caches.append(cache)\n",
    "        \n",
    "    AL,cache = linear_activation_forward(A,parameters['W'+ str(L)],parameters['b' + str(L)],'sigmoid')\n",
    "    caches.append(cache)\n",
    "    \n",
    "    return AL,caches\n",
    "    \n",
    "    "
   ]
  },
  {
   "cell_type": "code",
   "execution_count": 595,
   "id": "9cadfe47",
   "metadata": {},
   "outputs": [],
   "source": [
    "def relu_backward(dA,cache):\n",
    "    Z = cache\n",
    "    dZ = np.array(dA,copy = True)\n",
    "    dZ[Z <= 0] = 0\n",
    "    \n",
    "    return dZ"
   ]
  },
  {
   "cell_type": "code",
   "execution_count": 596,
   "id": "3b7a3e71",
   "metadata": {},
   "outputs": [],
   "source": [
    "def sigmoid_backward(dA,cache):\n",
    "    \n",
    "    Z = cache\n",
    "    \n",
    "    s = 1 / (1 + np.exp(-Z))\n",
    "    dZ = dA * s * (1 -s)\n",
    "    return dZ"
   ]
  },
  {
   "cell_type": "code",
   "execution_count": 597,
   "id": "f7bbe475",
   "metadata": {},
   "outputs": [],
   "source": [
    "def linear_backward(dZ,cache):\n",
    "    \n",
    "    A_prev,W,b = cache\n",
    "    m = A_prev.shape[1]\n",
    "    \n",
    "    dW = np.dot(dZ,A_prev.T) / m\n",
    "    db = np.sum(dZ,axis=1,keepdims=True) / m\n",
    "    dA_prev = np.dot(W.T,dZ)\n",
    "    \n",
    "    return dA_prev,dW,db\n",
    "    "
   ]
  },
  {
   "cell_type": "code",
   "execution_count": 598,
   "id": "ac58238c",
   "metadata": {},
   "outputs": [],
   "source": [
    "def linear_activation_backward(dA,cache,activation):\n",
    "    \n",
    "    linear_cache,activation_cache = cache\n",
    "    \n",
    "    if activation =='relu':\n",
    "        dZ = relu_backward(dA,activation_cache)\n",
    "        dA_prev,dW,db = linear_backward(dZ,linear_cache)\n",
    "    elif activation =='sigmoid':\n",
    "        dZ = sigmoid_backward(dA,activation_cache)\n",
    "        dA_prev,dW,db = linear_backward(dZ,linear_cache)\n",
    "        \n",
    "    return dA_prev,dW,db"
   ]
  },
  {
   "cell_type": "code",
   "execution_count": 599,
   "id": "5ecb4d97",
   "metadata": {},
   "outputs": [],
   "source": [
    "def L_model_backward(AL,Y,caches):\n",
    "    \n",
    "    grads = {}\n",
    "    L = len(caches)\n",
    "    m = AL.shape[1]\n",
    "    Y = Y.reshape(AL.shape)\n",
    "    \n",
    "    dAL = - (np.divide(Y,AL) - np.divide(1 - Y,1 - AL))\n",
    "    \n",
    "    current_cache = caches[L - 1]\n",
    "    dA_prev_temp,dW_temp,db_temp = linear_activation_backward(dAL,current_cache,'sigmoid')\n",
    "    grads[\"dA\" + str(L-1)] = dA_prev_temp\n",
    "    grads[\"dW\" + str(L)] = dW_temp\n",
    "    grads[\"db\" + str(L)] = db_temp\n",
    "    # YOUR CODE ENDS HERE\n",
    "    \n",
    "    # Loop from l=L-2 to l=0\n",
    "    for l in reversed(range(L-1)):\n",
    "        # lth layer: (RELU -> LINEAR) gradients.\n",
    "        # Inputs: \"grads[\"dA\" + str(l + 1)], current_cache\". Outputs: \"grads[\"dA\" + str(l)] , grads[\"dW\" + str(l + 1)] , grads[\"db\" + str(l + 1)] \n",
    "        #(approx. 5 lines)\n",
    "        # current_cache = ...\n",
    "        # dA_prev_temp, dW_temp, db_temp = ...\n",
    "        # grads[\"dA\" + str(l)] = ...\n",
    "        # grads[\"dW\" + str(l + 1)] = ...\n",
    "        # grads[\"db\" + str(l + 1)] = ...\n",
    "        # YOUR CODE STARTS HERE\n",
    "        current_cache = caches[l]\n",
    "        dA_prev_temp, dW_temp, db_temp = linear_activation_backward(grads[\"dA\" + str(l + 1)],current_cache,'relu')\n",
    "        grads[\"dA\" + str(l)] = dA_prev_temp\n",
    "        grads[\"dW\" + str(l + 1)] = dW_temp\n",
    "        grads[\"db\" + str(l + 1)] = db_temp\n",
    "        # YOUR CODE ENDS HERE\n",
    "\n",
    "    return grads"
   ]
  },
  {
   "cell_type": "code",
   "execution_count": 600,
   "id": "54e5c9da",
   "metadata": {},
   "outputs": [],
   "source": [
    "def update_parameters(params,grads,learning_rate):\n",
    "    \n",
    "    parameters = params.copy()\n",
    "    L = len(parameters) // 2 # number of layers in the neural network\n",
    "    #print(\"Learning Rate\",learning_rate)\n",
    "\n",
    "    # Update rule for each parameter. Use a for loop.\n",
    "    #(≈ 2 lines of code)\n",
    "    for l in range(L):\n",
    "        parameters[\"W\" + str(l+1)] = parameters[\"W\" + str(l+1)] - learning_rate * grads[\"dW\" + str(l+1)]\n",
    "        parameters[\"b\" + str(l+1)] = parameters[\"b\" + str(l+1)] - learning_rate * grads[\"db\" + str(l+1)]\n",
    "        \n",
    "    return parameters"
   ]
  },
  {
   "cell_type": "code",
   "execution_count": 601,
   "id": "21853630",
   "metadata": {},
   "outputs": [],
   "source": [
    "def L_layer_model(X,y,layers_dims,learning_rate=0.0075,num_iterations=3000,print_cost=False):\n",
    "    \n",
    "    np.random.seed(1)\n",
    "    costs=[]\n",
    "    \n",
    "    parameters = initialize_parameters_deep(layers_dims)\n",
    "    \n",
    "    for i in range(0,num_iterations):\n",
    "        \n",
    "        AL,caches = L_model_forward(X,parameters)\n",
    "        \n",
    "        cost = compute_cost(AL,y)\n",
    "        \n",
    "        grads = L_model_backward(AL,y,caches)\n",
    "        \n",
    "        parameters = update_parameters(parameters,grads,learning_rate)\n",
    "        \n",
    "        # Print the cost every 100 iterations\n",
    "        if print_cost and i % 100 == 0 or i == num_iterations - 1:\n",
    "            print(\"Cost after iteration {}: {}\".format(i, np.squeeze(cost)))\n",
    "        if i % 100 == 0 or i == num_iterations:\n",
    "            costs.append(cost)\n",
    "    \n",
    "    return parameters,costs\n",
    "        \n",
    "        "
   ]
  },
  {
   "cell_type": "code",
   "execution_count": 602,
   "id": "d45d59dc",
   "metadata": {},
   "outputs": [
    {
     "name": "stdout",
     "output_type": "stream",
     "text": [
      "Cost after iteration 0: 0.7593582356562509\n",
      "Cost after iteration 100: 0.24847616243315934\n",
      "Cost after iteration 200: 0.24202705132885233\n",
      "Cost after iteration 300: 0.2377842783504525\n",
      "Cost after iteration 400: 0.23457587596090676\n",
      "Cost after iteration 500: 0.23214617690096678\n",
      "Cost after iteration 600: 0.22969653705418072\n",
      "Cost after iteration 700: 0.22706308526311697\n",
      "Cost after iteration 800: 0.22433527297183528\n",
      "Cost after iteration 900: 0.2215146917114944\n",
      "Cost after iteration 1000: 0.21840651986842122\n",
      "Cost after iteration 1100: 0.21508644249096645\n",
      "Cost after iteration 1200: 0.21149713704945522\n",
      "Cost after iteration 1300: 0.2082708627589642\n",
      "Cost after iteration 1400: 0.20532830109854894\n",
      "Cost after iteration 1500: 0.20269677793228338\n",
      "Cost after iteration 1600: 0.20058928015739794\n",
      "Cost after iteration 1700: 0.19873004525772361\n",
      "Cost after iteration 1800: 0.19708125526810777\n",
      "Cost after iteration 1900: 0.1956092390201407\n",
      "Cost after iteration 2000: 0.1943941923984134\n",
      "Cost after iteration 2100: 0.19303370541073853\n",
      "Cost after iteration 2200: 0.1921593854615238\n",
      "Cost after iteration 2300: 0.1914374654973001\n",
      "Cost after iteration 2400: 0.19086513599572047\n",
      "Cost after iteration 2499: 0.19054936812797912\n"
     ]
    }
   ],
   "source": [
    "layers_dims = [10, 20, 7, 5, 1] #  4-layer model\n",
    "#layers_dims = [10, 20, 10,1] #  4-layer model\n",
    "#L_layer_model(train_x,train_y,layers_dims,num_iterations=1,print_cost=True)\n",
    "parameters, costs = L_layer_model(train_std, y_train, layers_dims,learning_rate=0.1, num_iterations = 2500, print_cost = True)"
   ]
  },
  {
   "cell_type": "code",
   "execution_count": 603,
   "id": "e2c79875",
   "metadata": {},
   "outputs": [],
   "source": [
    "def predict(X, y, parameters):\n",
    "    \n",
    "    m = X.shape[1]\n",
    "    n = len(parameters) // 2 # number of layers in the neural network\n",
    "    p = np.zeros((1,m))\n",
    "    \n",
    "    # Forward propagation\n",
    "    probas, caches = L_model_forward(X, parameters)\n",
    "\n",
    "    \n",
    "        \n",
    "    return probas\n"
   ]
  },
  {
   "cell_type": "code",
   "execution_count": 604,
   "id": "5f8ae1ed",
   "metadata": {},
   "outputs": [
    {
     "data": {
      "text/plain": [
       "array([0.17427459, 0.10360591, 0.01471627, ..., 0.0341742 , 0.01939018,\n",
       "       0.02649839])"
      ]
     },
     "execution_count": 604,
     "metadata": {},
     "output_type": "execute_result"
    }
   ],
   "source": [
    "pred = np.array(predict(test_std,y_test,parameters)[0])\n",
    "actual = np.array(y_test[0])\n",
    "pred"
   ]
  },
  {
   "cell_type": "code",
   "execution_count": 605,
   "id": "7bd776e8",
   "metadata": {},
   "outputs": [
    {
     "data": {
      "text/plain": [
       "0.9418625271697675"
      ]
     },
     "execution_count": 605,
     "metadata": {},
     "output_type": "execute_result"
    }
   ],
   "source": [
    "max(pred)"
   ]
  },
  {
   "cell_type": "code",
   "execution_count": 606,
   "id": "c0c72a89",
   "metadata": {},
   "outputs": [
    {
     "data": {
      "text/plain": [
       "0.8082726402040105"
      ]
     },
     "execution_count": 606,
     "metadata": {},
     "output_type": "execute_result"
    }
   ],
   "source": [
    "roc_auc_score(actual,pred)"
   ]
  }
 ],
 "metadata": {
  "kernelspec": {
   "display_name": "Python 3 (ipykernel)",
   "language": "python",
   "name": "python3"
  },
  "language_info": {
   "codemirror_mode": {
    "name": "ipython",
    "version": 3
   },
   "file_extension": ".py",
   "mimetype": "text/x-python",
   "name": "python",
   "nbconvert_exporter": "python",
   "pygments_lexer": "ipython3",
   "version": "3.11.5"
  }
 },
 "nbformat": 4,
 "nbformat_minor": 5
}
